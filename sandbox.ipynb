{
 "cells": [
  {
   "cell_type": "markdown",
   "metadata": {},
   "source": [
    "# Using EloModel Class"
   ]
  },
  {
   "cell_type": "code",
   "execution_count": 1,
   "metadata": {},
   "outputs": [],
   "source": [
    "import pandas as pd\n",
    "import numpy as np\n",
    "\n",
    "from elo_model import EloModel\n",
    "from elo_model import evaluate_EloModel\n",
    "from data_forms import TrainingData\n",
    "from heuristics import probabilistic_elo_init as init_heur1\n",
    "\n",
    "DATA_PATH = \"data/atp_matches_\"\n",
    "atp_2022_df = pd.read_csv(DATA_PATH + '2022.csv')\n",
    "atp_2023_df = pd.read_csv(DATA_PATH + '2023.csv')\n",
    "\n",
    "matches_22to23 = TrainingData([atp_2022_df, atp_2023_df])\n",
    "matches_22to23.partition_data(1)"
   ]
  },
  {
   "cell_type": "markdown",
   "metadata": {},
   "source": [
    "## Initializing Elo Models\n",
    "\n",
    "Elo ratings work by assigning all players a base score (provided below as a parameter to the EloModel class, by default set to 1500), and iteratively updating their score after each match played. The gain (or loss) is proportional to the difference in points won and expectation. For a single match, points are awarded as $1$ for a win, and $0$ for a loss. \n",
    "\n",
    "Expected points is computed as a function of a player's and his opponent's rating, as\n",
    "\n",
    "$$\n",
    "    E_A = \\frac{Q_A}{Q_A + Q_B}\n",
    "$$\n",
    "\n",
    "for $Q_A = 10^{R_A / D}$, and $Q_B = 10^{R_B / D}$ for player ratings $R_A, R_B$ and model parameter $D$ (by default set to $800$ in the model). \n",
    "\n",
    "It follows that the score increment is computed as \n",
    "\n",
    "$$\n",
    "    \\Delta R_A = K(R_A)(S_A - E_A)\n",
    "$$\n",
    "\n",
    "For model parameter $K(x)$ as the coefficient scaler, and $S_A$ describing the point system above. The coefficient is given as a function of rating since it usually decreases for higher rated players. "
   ]
  },
  {
   "cell_type": "code",
   "execution_count": 2,
   "metadata": {},
   "outputs": [],
   "source": [
    "# Vanilla Elo model\n",
    "vanilla_elo = EloModel(matches_22to23, 1500.0)\n",
    "\n",
    "# Elo Model with boosted initialization to check convergence\n",
    "heurInit_elo = EloModel(matches_22to23, 1500.0, init_heuristics = init_heur1)"
   ]
  },
  {
   "cell_type": "code",
   "execution_count": 3,
   "metadata": {},
   "outputs": [
    {
     "data": {
      "text/html": [
       "<div>\n",
       "<style scoped>\n",
       "    .dataframe tbody tr th:only-of-type {\n",
       "        vertical-align: middle;\n",
       "    }\n",
       "\n",
       "    .dataframe tbody tr th {\n",
       "        vertical-align: top;\n",
       "    }\n",
       "\n",
       "    .dataframe thead th {\n",
       "        text-align: right;\n",
       "    }\n",
       "</style>\n",
       "<table border=\"1\" class=\"dataframe\">\n",
       "  <thead>\n",
       "    <tr style=\"text-align: right;\">\n",
       "      <th></th>\n",
       "      <th>name</th>\n",
       "      <th>rating</th>\n",
       "      <th>games</th>\n",
       "    </tr>\n",
       "    <tr>\n",
       "      <th>id</th>\n",
       "      <th></th>\n",
       "      <th></th>\n",
       "      <th></th>\n",
       "    </tr>\n",
       "  </thead>\n",
       "  <tbody>\n",
       "    <tr>\n",
       "      <th>104925</th>\n",
       "      <td>Novak Djokovic</td>\n",
       "      <td>1801.331067</td>\n",
       "      <td>0</td>\n",
       "    </tr>\n",
       "    <tr>\n",
       "      <th>207989</th>\n",
       "      <td>Carlos Alcaraz</td>\n",
       "      <td>1801.331067</td>\n",
       "      <td>0</td>\n",
       "    </tr>\n",
       "    <tr>\n",
       "      <th>104745</th>\n",
       "      <td>Rafael Nadal</td>\n",
       "      <td>1713.441044</td>\n",
       "      <td>0</td>\n",
       "    </tr>\n",
       "    <tr>\n",
       "      <th>106421</th>\n",
       "      <td>Daniil Medvedev</td>\n",
       "      <td>1704.291942</td>\n",
       "      <td>0</td>\n",
       "    </tr>\n",
       "    <tr>\n",
       "      <th>106401</th>\n",
       "      <td>Nick Kyrgios</td>\n",
       "      <td>1695.246656</td>\n",
       "      <td>0</td>\n",
       "    </tr>\n",
       "    <tr>\n",
       "      <th>...</th>\n",
       "      <td>...</td>\n",
       "      <td>...</td>\n",
       "      <td>...</td>\n",
       "    </tr>\n",
       "    <tr>\n",
       "      <th>103852</th>\n",
       "      <td>Feliciano Lopez</td>\n",
       "      <td>1220.411998</td>\n",
       "      <td>0</td>\n",
       "    </tr>\n",
       "    <tr>\n",
       "      <th>106378</th>\n",
       "      <td>Kyle Edmund</td>\n",
       "      <td>1220.411998</td>\n",
       "      <td>0</td>\n",
       "    </tr>\n",
       "    <tr>\n",
       "      <th>126340</th>\n",
       "      <td>Viktor Durasovic</td>\n",
       "      <td>1198.668933</td>\n",
       "      <td>0</td>\n",
       "    </tr>\n",
       "    <tr>\n",
       "      <th>105332</th>\n",
       "      <td>Benoit Paire</td>\n",
       "      <td>1198.668933</td>\n",
       "      <td>0</td>\n",
       "    </tr>\n",
       "    <tr>\n",
       "      <th>105062</th>\n",
       "      <td>Mikhail Kukushkin</td>\n",
       "      <td>1198.668933</td>\n",
       "      <td>0</td>\n",
       "    </tr>\n",
       "  </tbody>\n",
       "</table>\n",
       "<p>512 rows × 3 columns</p>\n",
       "</div>"
      ],
      "text/plain": [
       "                     name       rating  games\n",
       "id                                           \n",
       "104925     Novak Djokovic  1801.331067      0\n",
       "207989     Carlos Alcaraz  1801.331067      0\n",
       "104745       Rafael Nadal  1713.441044      0\n",
       "106421    Daniil Medvedev  1704.291942      0\n",
       "106401       Nick Kyrgios  1695.246656      0\n",
       "...                   ...          ...    ...\n",
       "103852    Feliciano Lopez  1220.411998      0\n",
       "106378        Kyle Edmund  1220.411998      0\n",
       "126340   Viktor Durasovic  1198.668933      0\n",
       "105332       Benoit Paire  1198.668933      0\n",
       "105062  Mikhail Kukushkin  1198.668933      0\n",
       "\n",
       "[512 rows x 3 columns]"
      ]
     },
     "execution_count": 3,
     "metadata": {},
     "output_type": "execute_result"
    }
   ],
   "source": [
    "# Looking at base ratings from boosted initialization\n",
    "heurInit_elo.ratings.sort_values('rating', ascending=False)"
   ]
  },
  {
   "cell_type": "code",
   "execution_count": 4,
   "metadata": {},
   "outputs": [
    {
     "data": {
      "text/html": [
       "<div>\n",
       "<style scoped>\n",
       "    .dataframe tbody tr th:only-of-type {\n",
       "        vertical-align: middle;\n",
       "    }\n",
       "\n",
       "    .dataframe tbody tr th {\n",
       "        vertical-align: top;\n",
       "    }\n",
       "\n",
       "    .dataframe thead th {\n",
       "        text-align: right;\n",
       "    }\n",
       "</style>\n",
       "<table border=\"1\" class=\"dataframe\">\n",
       "  <thead>\n",
       "    <tr style=\"text-align: right;\">\n",
       "      <th></th>\n",
       "      <th>name</th>\n",
       "      <th>rating</th>\n",
       "      <th>games</th>\n",
       "    </tr>\n",
       "    <tr>\n",
       "      <th>id</th>\n",
       "      <th></th>\n",
       "      <th></th>\n",
       "      <th></th>\n",
       "    </tr>\n",
       "  </thead>\n",
       "  <tbody>\n",
       "    <tr>\n",
       "      <th>207989</th>\n",
       "      <td>Carlos Alcaraz</td>\n",
       "      <td>1610.197169</td>\n",
       "      <td>121</td>\n",
       "    </tr>\n",
       "    <tr>\n",
       "      <th>104925</th>\n",
       "      <td>Novak Djokovic</td>\n",
       "      <td>1599.859224</td>\n",
       "      <td>87</td>\n",
       "    </tr>\n",
       "    <tr>\n",
       "      <th>106421</th>\n",
       "      <td>Daniil Medvedev</td>\n",
       "      <td>1589.004201</td>\n",
       "      <td>120</td>\n",
       "    </tr>\n",
       "    <tr>\n",
       "      <th>206173</th>\n",
       "      <td>Jannik Sinner</td>\n",
       "      <td>1587.216994</td>\n",
       "      <td>114</td>\n",
       "    </tr>\n",
       "    <tr>\n",
       "      <th>208029</th>\n",
       "      <td>Holger Rune</td>\n",
       "      <td>1575.125314</td>\n",
       "      <td>111</td>\n",
       "    </tr>\n",
       "    <tr>\n",
       "      <th>...</th>\n",
       "      <td>...</td>\n",
       "      <td>...</td>\n",
       "      <td>...</td>\n",
       "    </tr>\n",
       "    <tr>\n",
       "      <th>202358</th>\n",
       "      <td>Chun Hsin Tseng</td>\n",
       "      <td>1463.560861</td>\n",
       "      <td>17</td>\n",
       "    </tr>\n",
       "    <tr>\n",
       "      <th>124079</th>\n",
       "      <td>Pedro Martinez</td>\n",
       "      <td>1458.055640</td>\n",
       "      <td>59</td>\n",
       "    </tr>\n",
       "    <tr>\n",
       "      <th>104269</th>\n",
       "      <td>Fernando Verdasco</td>\n",
       "      <td>1456.018112</td>\n",
       "      <td>21</td>\n",
       "    </tr>\n",
       "    <tr>\n",
       "      <th>105967</th>\n",
       "      <td>Henri Laaksonen</td>\n",
       "      <td>1453.819137</td>\n",
       "      <td>17</td>\n",
       "    </tr>\n",
       "    <tr>\n",
       "      <th>105332</th>\n",
       "      <td>Benoit Paire</td>\n",
       "      <td>1446.959339</td>\n",
       "      <td>28</td>\n",
       "    </tr>\n",
       "  </tbody>\n",
       "</table>\n",
       "<p>512 rows × 3 columns</p>\n",
       "</div>"
      ],
      "text/plain": [
       "                     name       rating  games\n",
       "id                                           \n",
       "207989     Carlos Alcaraz  1610.197169    121\n",
       "104925     Novak Djokovic  1599.859224     87\n",
       "106421    Daniil Medvedev  1589.004201    120\n",
       "206173      Jannik Sinner  1587.216994    114\n",
       "208029        Holger Rune  1575.125314    111\n",
       "...                   ...          ...    ...\n",
       "202358    Chun Hsin Tseng  1463.560861     17\n",
       "124079     Pedro Martinez  1458.055640     59\n",
       "104269  Fernando Verdasco  1456.018112     21\n",
       "105967    Henri Laaksonen  1453.819137     17\n",
       "105332       Benoit Paire  1446.959339     28\n",
       "\n",
       "[512 rows x 3 columns]"
      ]
     },
     "execution_count": 4,
     "metadata": {},
     "output_type": "execute_result"
    }
   ],
   "source": [
    "vanilla_elo.update_elo(matches_22to23.partitioned_data['Training'])\n",
    "vanilla_elo.ratings.sort_values(by=['rating'], ascending=False)"
   ]
  },
  {
   "cell_type": "code",
   "execution_count": 5,
   "metadata": {},
   "outputs": [
    {
     "data": {
      "text/html": [
       "<div>\n",
       "<style scoped>\n",
       "    .dataframe tbody tr th:only-of-type {\n",
       "        vertical-align: middle;\n",
       "    }\n",
       "\n",
       "    .dataframe tbody tr th {\n",
       "        vertical-align: top;\n",
       "    }\n",
       "\n",
       "    .dataframe thead th {\n",
       "        text-align: right;\n",
       "    }\n",
       "</style>\n",
       "<table border=\"1\" class=\"dataframe\">\n",
       "  <thead>\n",
       "    <tr style=\"text-align: right;\">\n",
       "      <th></th>\n",
       "      <th>name</th>\n",
       "      <th>rating</th>\n",
       "      <th>games</th>\n",
       "    </tr>\n",
       "    <tr>\n",
       "      <th>id</th>\n",
       "      <th></th>\n",
       "      <th></th>\n",
       "      <th></th>\n",
       "    </tr>\n",
       "  </thead>\n",
       "  <tbody>\n",
       "    <tr>\n",
       "      <th>104925</th>\n",
       "      <td>Novak Djokovic</td>\n",
       "      <td>1614.869077</td>\n",
       "      <td>91</td>\n",
       "    </tr>\n",
       "    <tr>\n",
       "      <th>207989</th>\n",
       "      <td>Carlos Alcaraz</td>\n",
       "      <td>1602.491120</td>\n",
       "      <td>126</td>\n",
       "    </tr>\n",
       "    <tr>\n",
       "      <th>106401</th>\n",
       "      <td>Nick Kyrgios</td>\n",
       "      <td>1588.335154</td>\n",
       "      <td>52</td>\n",
       "    </tr>\n",
       "    <tr>\n",
       "      <th>106421</th>\n",
       "      <td>Daniil Medvedev</td>\n",
       "      <td>1580.100703</td>\n",
       "      <td>122</td>\n",
       "    </tr>\n",
       "    <tr>\n",
       "      <th>104745</th>\n",
       "      <td>Rafael Nadal</td>\n",
       "      <td>1575.081183</td>\n",
       "      <td>52</td>\n",
       "    </tr>\n",
       "    <tr>\n",
       "      <th>...</th>\n",
       "      <td>...</td>\n",
       "      <td>...</td>\n",
       "      <td>...</td>\n",
       "    </tr>\n",
       "    <tr>\n",
       "      <th>105613</th>\n",
       "      <td>Norbert Gombos</td>\n",
       "      <td>1311.001424</td>\n",
       "      <td>11</td>\n",
       "    </tr>\n",
       "    <tr>\n",
       "      <th>106378</th>\n",
       "      <td>Kyle Edmund</td>\n",
       "      <td>1298.861091</td>\n",
       "      <td>12</td>\n",
       "    </tr>\n",
       "    <tr>\n",
       "      <th>105967</th>\n",
       "      <td>Henri Laaksonen</td>\n",
       "      <td>1298.350876</td>\n",
       "      <td>17</td>\n",
       "    </tr>\n",
       "    <tr>\n",
       "      <th>105062</th>\n",
       "      <td>Mikhail Kukushkin</td>\n",
       "      <td>1273.690609</td>\n",
       "      <td>11</td>\n",
       "    </tr>\n",
       "    <tr>\n",
       "      <th>126340</th>\n",
       "      <td>Viktor Durasovic</td>\n",
       "      <td>1258.372119</td>\n",
       "      <td>10</td>\n",
       "    </tr>\n",
       "  </tbody>\n",
       "</table>\n",
       "<p>512 rows × 3 columns</p>\n",
       "</div>"
      ],
      "text/plain": [
       "                     name       rating  games\n",
       "id                                           \n",
       "104925     Novak Djokovic  1614.869077     91\n",
       "207989     Carlos Alcaraz  1602.491120    126\n",
       "106401       Nick Kyrgios  1588.335154     52\n",
       "106421    Daniil Medvedev  1580.100703    122\n",
       "104745       Rafael Nadal  1575.081183     52\n",
       "...                   ...          ...    ...\n",
       "105613     Norbert Gombos  1311.001424     11\n",
       "106378        Kyle Edmund  1298.861091     12\n",
       "105967    Henri Laaksonen  1298.350876     17\n",
       "105062  Mikhail Kukushkin  1273.690609     11\n",
       "126340   Viktor Durasovic  1258.372119     10\n",
       "\n",
       "[512 rows x 3 columns]"
      ]
     },
     "execution_count": 5,
     "metadata": {},
     "output_type": "execute_result"
    }
   ],
   "source": [
    "heurInit_elo.update_elo(matches_22to23.data)\n",
    "heurInit_elo.ratings.sort_values(by=['rating'], ascending=False)"
   ]
  },
  {
   "cell_type": "code",
   "execution_count": 5,
   "metadata": {},
   "outputs": [],
   "source": [
    "def get_players(matches: pd.DataFrame):\n",
    "    winner_ids = matches[['winner_id', 'winner_name']].drop_duplicates().rename(columns={'winner_id': 'id', 'winner_name': 'name'})\n",
    "    loser_ids = matches[['loser_id', 'loser_name']].drop_duplicates().rename(columns={'loser_id': 'id', 'loser_name': 'name'})\n",
    "    \n",
    "    players = pd.concat([winner_ids, loser_ids]).drop_duplicates().set_index('id')\n",
    "\n",
    "    return players\n",
    "\n",
    "\n",
    "\n",
    "training_df = matches_22to23.partitioned_data['Training']\n",
    "testing_df = matches_22to23.partitioned_data['Testing']\n",
    "training_players = get_players(training_df)\n",
    "testing_players = get_players(testing_df)"
   ]
  },
  {
   "cell_type": "markdown",
   "metadata": {},
   "source": [
    "## Evaluating Models\n",
    "\n",
    "Ratings are evaluated on a test tournament across three metrics:\n",
    "\n",
    "- Cross-entropy (CE)\n",
    "- Accuracy\n",
    "- Brier Score (BS)"
   ]
  },
  {
   "cell_type": "code",
   "execution_count": 2,
   "metadata": {},
   "outputs": [],
   "source": [
    "# Loading evaluation method\n",
    "from elo_model import evaluate_EloModel"
   ]
  },
  {
   "cell_type": "markdown",
   "metadata": {},
   "source": [
    "This implementation was a bit of an oversight, and doesn't make much sense as a stand-alone function. Model evaluation should be built into the EloModel class."
   ]
  },
  {
   "cell_type": "code",
   "execution_count": 3,
   "metadata": {},
   "outputs": [
    {
     "data": {
      "text/plain": [
       "{'N': 55,\n",
       " 'CE': 0.6596622237202288,\n",
       " 'Accuracy': 0.6545454545454545,\n",
       " 'BS': 0.23349345317196832}"
      ]
     },
     "execution_count": 3,
     "metadata": {},
     "output_type": "execute_result"
    }
   ],
   "source": [
    "heurInit_eval = evaluate_EloModel(matches_22to23, init_heuristics = init_heur1)\n",
    "heurInit_eval"
   ]
  },
  {
   "cell_type": "code",
   "execution_count": 4,
   "metadata": {},
   "outputs": [
    {
     "data": {
      "text/plain": [
       "{'N': 55,\n",
       " 'CE': 0.6599451564243387,\n",
       " 'Accuracy': 0.6727272727272727,\n",
       " 'BS': 0.2336053129324581}"
      ]
     },
     "execution_count": 4,
     "metadata": {},
     "output_type": "execute_result"
    }
   ],
   "source": [
    "vanilla_eval = evaluate_EloModel(matches_22to23)\n",
    "vanilla_eval"
   ]
  },
  {
   "cell_type": "code",
   "execution_count": 9,
   "metadata": {},
   "outputs": [
    {
     "name": "stdout",
     "output_type": "stream",
     "text": [
      "0.6931471805599455\n"
     ]
    }
   ],
   "source": [
    "from sklearn.metrics import log_loss\n",
    "\n",
    "winners_OHE = np.tile([1, 0], (55, 1))\n",
    "random_preds = np.tile([0.5, 0.5], (55, 1))\n",
    "\n",
    "random_CE = log_loss(winners_OHE, random_preds)\n",
    "print(random_CE)"
   ]
  },
  {
   "cell_type": "code",
   "execution_count": 10,
   "metadata": {},
   "outputs": [
    {
     "data": {
      "text/plain": [
       "0.6909090909090909"
      ]
     },
     "execution_count": 10,
     "metadata": {},
     "output_type": "execute_result"
    }
   ],
   "source": [
    "def atp_points_winner(matches: pd.DataFrame):\n",
    "    N = matches.shape[0]\n",
    "    predicted_wins = matches[matches['winner_rank_points'] > matches['loser_rank_points']].shape[0]\n",
    "\n",
    "    return predicted_wins / N\n",
    "\n",
    "atp_points_winner(matches_22to23.partitioned_data['Testing'])"
   ]
  },
  {
   "cell_type": "code",
   "execution_count": 3,
   "metadata": {},
   "outputs": [],
   "source": [
    "elo_rankings = EloModel(matches_22to23.data, 1500.0)"
   ]
  },
  {
   "cell_type": "code",
   "execution_count": 23,
   "metadata": {},
   "outputs": [],
   "source": [
    "master_df = matches_22to23.data"
   ]
  },
  {
   "cell_type": "code",
   "execution_count": 4,
   "metadata": {},
   "outputs": [
    {
     "data": {
      "text/html": [
       "<div>\n",
       "<style scoped>\n",
       "    .dataframe tbody tr th:only-of-type {\n",
       "        vertical-align: middle;\n",
       "    }\n",
       "\n",
       "    .dataframe tbody tr th {\n",
       "        vertical-align: top;\n",
       "    }\n",
       "\n",
       "    .dataframe thead th {\n",
       "        text-align: right;\n",
       "    }\n",
       "</style>\n",
       "<table border=\"1\" class=\"dataframe\">\n",
       "  <thead>\n",
       "    <tr style=\"text-align: right;\">\n",
       "      <th></th>\n",
       "      <th>name</th>\n",
       "      <th>rating</th>\n",
       "      <th>games</th>\n",
       "    </tr>\n",
       "    <tr>\n",
       "      <th>id</th>\n",
       "      <th></th>\n",
       "      <th></th>\n",
       "      <th></th>\n",
       "    </tr>\n",
       "  </thead>\n",
       "  <tbody>\n",
       "    <tr>\n",
       "      <th>104925</th>\n",
       "      <td>Novak Djokovic</td>\n",
       "      <td>1615.337511</td>\n",
       "      <td>158</td>\n",
       "    </tr>\n",
       "    <tr>\n",
       "      <th>207989</th>\n",
       "      <td>Carlos Alcaraz</td>\n",
       "      <td>1610.483807</td>\n",
       "      <td>216</td>\n",
       "    </tr>\n",
       "    <tr>\n",
       "      <th>106421</th>\n",
       "      <td>Daniil Medvedev</td>\n",
       "      <td>1586.839918</td>\n",
       "      <td>186</td>\n",
       "    </tr>\n",
       "    <tr>\n",
       "      <th>100644</th>\n",
       "      <td>Alexander Zverev</td>\n",
       "      <td>1581.374282</td>\n",
       "      <td>130</td>\n",
       "    </tr>\n",
       "    <tr>\n",
       "      <th>206173</th>\n",
       "      <td>Jannik Sinner</td>\n",
       "      <td>1578.832783</td>\n",
       "      <td>176</td>\n",
       "    </tr>\n",
       "    <tr>\n",
       "      <th>...</th>\n",
       "      <td>...</td>\n",
       "      <td>...</td>\n",
       "      <td>...</td>\n",
       "    </tr>\n",
       "    <tr>\n",
       "      <th>202358</th>\n",
       "      <td>Chun Hsin Tseng</td>\n",
       "      <td>1463.560861</td>\n",
       "      <td>4</td>\n",
       "    </tr>\n",
       "    <tr>\n",
       "      <th>124079</th>\n",
       "      <td>Pedro Martinez</td>\n",
       "      <td>1458.055640</td>\n",
       "      <td>44</td>\n",
       "    </tr>\n",
       "    <tr>\n",
       "      <th>104269</th>\n",
       "      <td>Fernando Verdasco</td>\n",
       "      <td>1456.018112</td>\n",
       "      <td>10</td>\n",
       "    </tr>\n",
       "    <tr>\n",
       "      <th>105967</th>\n",
       "      <td>Henri Laaksonen</td>\n",
       "      <td>1453.819137</td>\n",
       "      <td>4</td>\n",
       "    </tr>\n",
       "    <tr>\n",
       "      <th>105332</th>\n",
       "      <td>Benoit Paire</td>\n",
       "      <td>1446.959339</td>\n",
       "      <td>8</td>\n",
       "    </tr>\n",
       "  </tbody>\n",
       "</table>\n",
       "<p>512 rows × 3 columns</p>\n",
       "</div>"
      ],
      "text/plain": [
       "                     name       rating  games\n",
       "id                                           \n",
       "104925     Novak Djokovic  1615.337511    158\n",
       "207989     Carlos Alcaraz  1610.483807    216\n",
       "106421    Daniil Medvedev  1586.839918    186\n",
       "100644   Alexander Zverev  1581.374282    130\n",
       "206173      Jannik Sinner  1578.832783    176\n",
       "...                   ...          ...    ...\n",
       "202358    Chun Hsin Tseng  1463.560861      4\n",
       "124079     Pedro Martinez  1458.055640     44\n",
       "104269  Fernando Verdasco  1456.018112     10\n",
       "105967    Henri Laaksonen  1453.819137      4\n",
       "105332       Benoit Paire  1446.959339      8\n",
       "\n",
       "[512 rows x 3 columns]"
      ]
     },
     "execution_count": 4,
     "metadata": {},
     "output_type": "execute_result"
    }
   ],
   "source": [
    "elo_rankings.update_elo(matches_22to23.data)\n",
    "elo_rankings.ratings.sort_values(by=['rating'], ascending=False)"
   ]
  },
  {
   "cell_type": "code",
   "execution_count": 8,
   "metadata": {},
   "outputs": [
    {
     "data": {
      "text/plain": [
       "array(['2023-0421', '2023-0422'], dtype=object)"
      ]
     },
     "execution_count": 8,
     "metadata": {},
     "output_type": "execute_result"
    }
   ],
   "source": [
    "master_df = matches_22to23.data\n",
    "# master_df.groupby(['tourney_id'])['tourney_id']\n",
    "master_df['tourney_id'].unique()[-3: -1]"
   ]
  },
  {
   "cell_type": "code",
   "execution_count": null,
   "metadata": {},
   "outputs": [],
   "source": []
  }
 ],
 "metadata": {
  "kernelspec": {
   "display_name": "Python 3.11.4 ('.tennis_elo': venv)",
   "language": "python",
   "name": "python3"
  },
  "language_info": {
   "codemirror_mode": {
    "name": "ipython",
    "version": 3
   },
   "file_extension": ".py",
   "mimetype": "text/x-python",
   "name": "python",
   "nbconvert_exporter": "python",
   "pygments_lexer": "ipython3",
   "version": "3.11.4"
  },
  "orig_nbformat": 4,
  "vscode": {
   "interpreter": {
    "hash": "080171cb62c274e5a9c94f6ad407bf5ec5c75d62890c265a7d30836201b072c3"
   }
  }
 },
 "nbformat": 4,
 "nbformat_minor": 2
}
